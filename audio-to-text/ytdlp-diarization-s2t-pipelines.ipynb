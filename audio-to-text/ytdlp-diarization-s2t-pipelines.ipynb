{
 "cells": [
  {
   "cell_type": "markdown",
   "metadata": {},
   "source": [
    "## YouTubeダウンロード"
   ]
  },
  {
   "cell_type": "code",
   "execution_count": null,
   "metadata": {},
   "outputs": [
    {
     "name": "stdout",
     "output_type": "stream",
     "text": [
      "✅ 成功: https://www.youtube.com/watch?v=xVmShH0-9xY\n",
      "[youtube] Extracting URL: https://www.youtube.com/watch?v=xVmShH0-9xY\n",
      "[youtube] xVmShH0-9xY: Downloading webpage\n",
      "[youtube] xVmShH0-9xY: Downloading tv client config\n",
      "[youtube] xVmShH0-9xY: Downloading tv player API JSON\n",
      "[youtube] xVmShH0-9xY: Downloading ios player API JSON\n",
      "[youtube] xVmShH0-9xY: Downloading m3u8 information\n",
      "[info] xVmShH0-9xY: Downloading 1 format(s): 234\n",
      "[hlsnative] Downloading m3u8 manifest\n",
      "[hlsnative] Total fragments: 7\n",
      "[download] Destination: input_audio\\xVmShH0-9xY.mp4\n",
      "\n",
      "[download] 100.0% of ~   1.00KiB at    333.19B/s ETA Unknown (frag 0/7)\n",
      "[download]  42.9% of ~   7.00KiB at    333.19B/s ETA Unknown (frag 0/7)\n",
      "[download]  33.3% of ~  21.00KiB at    333.19B/s ETA Unknown (frag 0/7)\n",
      "[download]  30.6% of ~  49.00KiB at    333.19B/s ETA Unknown (frag 0/7)\n",
      "[download]  29.5% of ~ 105.00KiB at    9.38KiB/s ETA 00:02 (frag 0/7)  \n",
      "[download]  29.0% of ~ 217.00KiB at   24.10KiB/s ETA 00:02 (frag 0/7)\n",
      "[download]  19.0% of ~ 441.00KiB at   24.10KiB/s ETA 00:02 (frag 0/7)\n",
      "[download]   7.1% of ~   1.15MiB at   24.10KiB/s ETA 00:02 (frag 1/7)\n",
      "[download]  28.9% of ~ 294.00KiB at   36.29KiB/s ETA 00:02 (frag 1/7)\n",
      "[download]  29.2% of ~ 297.50KiB at   36.29KiB/s ETA 00:02 (frag 1/7)\n",
      "[download]  29.9% of ~ 304.50KiB at   36.29KiB/s ETA 00:02 (frag 1/7)\n",
      "[download]  31.1% of ~ 318.50KiB at   36.29KiB/s ETA 00:02 (frag 1/7)\n",
      "[download]  33.2% of ~ 346.50KiB at   36.29KiB/s ETA 00:02 (frag 1/7)\n",
      "[download]  36.5% of ~ 402.50KiB at   36.29KiB/s ETA 00:02 (frag 1/7)\n",
      "[download]  32.6% of ~ 514.50KiB at   62.00KiB/s ETA 00:02 (frag 1/7)\n",
      "[download]  19.1% of ~ 880.00KiB at   62.00KiB/s ETA 00:02 (frag 2/7)\n",
      "[download]  43.1% of ~ 391.33KiB at   75.78KiB/s ETA 00:02 (frag 2/7)\n",
      "[download]  43.4% of ~ 393.67KiB at   75.78KiB/s ETA 00:02 (frag 2/7)\n",
      "[download]  43.9% of ~ 398.33KiB at   75.78KiB/s ETA 00:02 (frag 2/7)\n",
      "[download]  44.8% of ~ 407.67KiB at   75.78KiB/s ETA 00:02 (frag 2/7)\n",
      "[download]  46.6% of ~ 426.33KiB at   75.78KiB/s ETA 00:02 (frag 2/7)\n",
      "[download]  49.8% of ~ 463.67KiB at   75.78KiB/s ETA 00:02 (frag 2/7)\n",
      "[download]  46.6% of ~ 538.33KiB at   99.36KiB/s ETA 00:02 (frag 2/7)\n",
      "[download]  32.2% of ~ 779.28KiB at   99.36KiB/s ETA 00:02 (frag 3/7)\n",
      "[download]  57.4% of ~ 438.98KiB at  111.59KiB/s ETA 00:02 (frag 3/7)\n",
      "[download]  57.6% of ~ 440.73KiB at  111.59KiB/s ETA 00:02 (frag 3/7)\n",
      "[download]  58.0% of ~ 444.23KiB at  111.59KiB/s ETA 00:02 (frag 3/7)\n",
      "[download]  58.9% of ~ 451.23KiB at  111.59KiB/s ETA 00:02 (frag 3/7)\n",
      "[download]  60.6% of ~ 465.23KiB at  111.59KiB/s ETA 00:02 (frag 3/7)\n",
      "[download]  63.6% of ~ 493.23KiB at  111.59KiB/s ETA 00:02 (frag 3/7)\n",
      "[download]  60.8% of ~ 549.23KiB at  132.01KiB/s ETA 00:02 (frag 3/7)\n",
      "[download]  45.7% of ~ 730.59KiB at  132.01KiB/s ETA 00:02 (frag 4/7)\n",
      "[download]  71.6% of ~ 467.83KiB at  141.15KiB/s ETA 00:02 (frag 4/7)\n",
      "[download]  71.9% of ~ 469.23KiB at  141.15KiB/s ETA 00:02 (frag 4/7)\n",
      "[download]  72.3% of ~ 472.03KiB at  141.15KiB/s ETA 00:02 (frag 4/7)\n",
      "[download]  73.1% of ~ 477.63KiB at  141.15KiB/s ETA 00:02 (frag 4/7)\n",
      "[download]  74.7% of ~ 488.83KiB at  141.15KiB/s ETA 00:02 (frag 4/7)\n",
      "[download]  77.7% of ~ 511.23KiB at  141.15KiB/s ETA 00:02 (frag 4/7)\n",
      "[download]  75.1% of ~ 556.03KiB at  141.15KiB/s ETA 00:02 (frag 4/7)\n",
      "[download]  59.5% of ~ 701.28KiB at  141.15KiB/s ETA 00:02 (frag 5/7)\n",
      "[download]  85.9% of ~ 487.13KiB at  153.47KiB/s ETA 00:01 (frag 5/7)\n",
      "[download]  86.1% of ~ 488.30KiB at  153.47KiB/s ETA 00:01 (frag 5/7)\n",
      "[download]  86.5% of ~ 490.63KiB at  153.47KiB/s ETA 00:01 (frag 5/7)\n",
      "[download]  87.3% of ~ 495.30KiB at  153.47KiB/s ETA 00:01 (frag 5/7)\n",
      "[download]  88.9% of ~ 504.63KiB at  153.47KiB/s ETA 00:01 (frag 5/7)\n",
      "[download]  91.8% of ~ 523.30KiB at  153.47KiB/s ETA 00:01 (frag 5/7)\n",
      "[download]  89.4% of ~ 560.63KiB at  153.47KiB/s ETA 00:01 (frag 5/7)\n",
      "[download]  73.5% of ~ 682.10KiB at  153.47KiB/s ETA 00:01 (frag 6/7)\n",
      "[download] 100.0% of ~ 502.10KiB at  167.30KiB/s ETA 00:01 (frag 6/7)\n",
      "[download] 100.0% of ~ 504.10KiB at  167.30KiB/s ETA 00:01 (frag 6/7)\n",
      "[download] 100.0% of ~ 508.10KiB at  167.30KiB/s ETA 00:01 (frag 6/7)\n",
      "[download] 100.0% of ~ 516.10KiB at  167.30KiB/s ETA 00:01 (frag 6/7)\n",
      "[download] 100.0% of ~ 532.10KiB at  167.30KiB/s ETA 00:01 (frag 6/7)\n",
      "[download] 100.0% of ~ 564.10KiB at  167.30KiB/s ETA 00:01 (frag 6/7)\n",
      "[download] 100.0% of ~ 600.04KiB at  186.93KiB/s ETA 00:01 (frag 6/7)\n",
      "[download]  85.8% of ~ 698.99KiB at  186.93KiB/s ETA 00:01 (frag 7/7)\n",
      "[download] 100% of  600.04KiB in 00:00:02 at 232.94KiB/s             \n",
      "[ExtractAudio] Destination: input_audio\\xVmShH0-9xY.wav\n",
      "Deleting original file input_audio\\xVmShH0-9xY.mp4 (pass -k to keep)\n",
      "\n"
     ]
    }
   ],
   "source": [
    "# 動画のリンクのリスト → 音声ファイル\n",
    "\n",
    "import os\n",
    "import subprocess\n",
    "\n",
    "youtube_links = [\n",
    "    \"https://www.youtube.com/watch?v=xVmShH0-9xY\"\n",
    "]  \n",
    "\n",
    "output_dir = \"input_audio\"\n",
    "os.makedirs(output_dir, exist_ok=True)\n",
    "\n",
    "for link in youtube_links:\n",
    "    output_template = os.path.join(output_dir, \"%(id)s.%(ext)s\")\n",
    "    command = [\n",
    "        \"yt-dlp\",\n",
    "        \"-x\",\n",
    "        \"--audio-format\", \"wav\", # 動画を取得したければこの行をコメントアウト\n",
    "        \"-o\", output_template,\n",
    "        link\n",
    "    ]\n",
    "    \n",
    "    try:\n",
    "        result = subprocess.run(command, check=True, stdout=subprocess.PIPE, stderr=subprocess.PIPE, text=True)\n",
    "        print(\"✅ 成功:\", link)\n",
    "        print(result.stdout)\n",
    "    except subprocess.CalledProcessError as e:\n",
    "        print(\"❌ 失敗:\", link)\n",
    "        print(\"標準エラー出力:\\n\", e.stderr)"
   ]
  },
  {
   "cell_type": "code",
   "execution_count": null,
   "metadata": {},
   "outputs": [],
   "source": [
    "# 再生リストのリンクのリスト → 音声ファイル\n",
    "import os\n",
    "\n",
    "youtube_playlist_links = [\n",
    "    \"https://youtube.com/playlist?list=PLsbq1qh5ApJK0vcKhSkZfWyRBW82NzSRr&si=VnOYmKQyrzXc9bZ9\"\n",
    "] \n",
    "\n",
    "# 出力ディレクトリの作成\n",
    "output_dir = \"input_audio\"\n",
    "os.makedirs(output_dir, exist_ok=True)\n",
    "\n",
    "# 各リンクに対して音声をダウンロード\n",
    "for link in youtube_playlist_links:\n",
    "    # os.system(f'yt-dlp -x --audio-format wav -o \"{output_dir}/%(title)s.%(ext)s\" {link}')\n",
    "    # os.system(f'yt-dlp -x --audio-format mp3 -o \"{output_dir}/%(title)s.%(ext)s\" {link}')\n",
    "    os.system(f'yt-dlp -o \"{output_dir}/%(title)s.%(ext)s\" {link}')"
   ]
  },
  {
   "cell_type": "markdown",
   "metadata": {},
   "source": [
    "## 文字起こし & 話者分類"
   ]
  },
  {
   "cell_type": "code",
   "execution_count": 4,
   "metadata": {},
   "outputs": [
    {
     "name": "stdout",
     "output_type": "stream",
     "text": [
      "cuda:0\n"
     ]
    }
   ],
   "source": [
    "# ライブラリのインストールとモデルのロード\n",
    "import torch\n",
    "from pyannote.audio import Pipeline as PyannotePipeline\n",
    "from dotenv import load_dotenv\n",
    "import os\n",
    "\n",
    "# 話者分離モデル(pyannote.audio)のパイプライン設定\n",
    "load_dotenv(dotenv_path=\".env\")\n",
    "PYANNOTE_AUTH_TOKEN = os.getenv(\"PYANNOTE_AUTH_TOKEN\")\n",
    "pyannote_pipeline = PyannotePipeline.from_pretrained(\n",
    "    \"pyannote/speaker-diarization-3.1\",\n",
    "    use_auth_token=PYANNOTE_AUTH_TOKEN,\n",
    ")\n",
    "pyannote_pipeline.to(torch.device(\"cuda\"))\n",
    "\n",
    "# GPU用の設定\n",
    "device = \"cuda:0\" if torch.cuda.is_available() else \"cpu\"\n",
    "print(device)\n",
    "torch_dtype = torch.float16 if torch.cuda.is_available() else torch.float32\n",
    "\n",
    "# 音声認識モデル(whisper-large-v3)のロード\n",
    "from transformers import AutoModelForSpeechSeq2Seq, AutoProcessor, pipeline as transformers_pipeline\n",
    "model_id = \"openai/whisper-large-v3-turbo\"\n",
    "model = AutoModelForSpeechSeq2Seq.from_pretrained(\n",
    "    model_id, torch_dtype=torch_dtype, low_cpu_mem_usage=True, use_safetensors=True\n",
    ")\n",
    "model.to(device)\n",
    "processor = AutoProcessor.from_pretrained(model_id)\n",
    "transformers_pipe = transformers_pipeline(\n",
    "    \"automatic-speech-recognition\",\n",
    "    model=model,\n",
    "    tokenizer=processor.tokenizer,\n",
    "    feature_extractor=processor.feature_extractor,\n",
    "    max_new_tokens=256,\n",
    "    chunk_length_s=30,\n",
    "    batch_size=16,\n",
    "    return_timestamps=\"word\",\n",
    "    torch_dtype=torch_dtype,\n",
    "    device=device,\n",
    ")"
   ]
  },
  {
   "cell_type": "code",
   "execution_count": 5,
   "metadata": {},
   "outputs": [
    {
     "name": "stdout",
     "output_type": "stream",
     "text": [
      "input_audio\\Final WSDC 2017.mp3\n"
     ]
    },
    {
     "name": "stderr",
     "output_type": "stream",
     "text": [
      "You have passed language=english, but also have set `forced_decoder_ids` to [[1, None], [2, 50360]] which creates a conflict. `forced_decoder_ids` will be ignored in favor of language=english.\n",
      "The attention mask is not set and cannot be inferred from input because pad token is same as eos token. As a consequence, you may observe unexpected behavior. Please pass your input's `attention_mask` to obtain reliable results.\n",
      "WhisperModel is using WhisperSdpaAttention, but `torch.nn.functional.scaled_dot_product_attention` does not support `output_attentions=True` or `layer_head_mask` not None. Falling back to the manual attention implementation, but specifying the manual implementation will be required from Transformers version v5.0.0 onwards. This warning can be removed using the argument `attn_implementation=\"eager\"` when loading the model.\n",
      "Whisper did not predict an ending timestamp, which can happen if audio is cut off in the middle of a word. Also make sure WhisperTimeStampLogitsProcessor was used during generation.\n"
     ]
    },
    {
     "name": "stdout",
     "output_type": "stream",
     "text": [
      "経過時間: 529.53秒\n"
     ]
    }
   ],
   "source": [
    "import os\n",
    "import csv\n",
    "import time\n",
    "\n",
    "folder_path = \"input_audio\"\n",
    "output_dir = \"output_text\"\n",
    "\n",
    "start_time = time.time()\n",
    "\n",
    "for file_path in os.listdir(folder_path):\n",
    "    if file_path.endswith(\".mp3\"):\n",
    "        full_path = os.path.join(folder_path, file_path)\n",
    "        print(full_path)\n",
    "\n",
    "        try:\n",
    "            tmp_result = transformers_pipe(full_path, generate_kwargs={\"language\": \"english\"})\n",
    "            file_name = os.path.splitext(file_path)[0]\n",
    "\n",
    "            with open(os.path.join(output_dir, file_name + \"-text.csv\"), \"w\", encoding='utf-8') as f:\n",
    "                writer = csv.writer(f)\n",
    "                writer.writerow([\"start\", \"end\", \"text\"])\n",
    "                for chunk in tmp_result[\"chunks\"]:\n",
    "                    writer.writerow([chunk[\"timestamp\"][0], chunk[\"timestamp\"][1], chunk[\"text\"]])\n",
    "            \n",
    "            del tmp_result\n",
    "\n",
    "        except Exception as e:\n",
    "            print(f\"エラーが発生しました: {e}\")\n",
    "\n",
    "end_time = time.time()\n",
    "print(f\"経過時間: {(end_time - start_time):.2f}秒\")\n"
   ]
  },
  {
   "cell_type": "code",
   "execution_count": null,
   "metadata": {},
   "outputs": [],
   "source": [
    "# 話者分類\n",
    "input_dir = \"final_input_audio\"\n",
    "output_dir = \"final_output_text\"\n",
    "\n",
    "for file_name in os.listdir(input_dir):\n",
    "    if file_name.endswith(\".wav\"):\n",
    "        file_path = os.path.join(input_dir, file_name)\n",
    "        diarization = pyannote_pipeline(file_path)\n",
    "        base_name = os.path.splitext(file_name)[0]\n",
    "        output_file = os.path.join(output_dir, f\"{base_name}-asr.csv\")\n",
    "        \n",
    "        with open(output_file, \"w\", encoding='utf-8') as f:\n",
    "            writer = csv.writer(f)\n",
    "            writer.writerow([\"start\", \"end\", \"speaker\"])\n",
    "            for turn, _, speaker in diarization.itertracks(yield_label=True):\n",
    "                writer.writerow([round(turn.start, 2), round(turn.end, 2), speaker])"
   ]
  }
 ],
 "metadata": {
  "kernelspec": {
   "display_name": ".venv",
   "language": "python",
   "name": "python3"
  },
  "language_info": {
   "codemirror_mode": {
    "name": "ipython",
    "version": 3
   },
   "file_extension": ".py",
   "mimetype": "text/x-python",
   "name": "python",
   "nbconvert_exporter": "python",
   "pygments_lexer": "ipython3",
   "version": "3.11.5"
  }
 },
 "nbformat": 4,
 "nbformat_minor": 2
}
