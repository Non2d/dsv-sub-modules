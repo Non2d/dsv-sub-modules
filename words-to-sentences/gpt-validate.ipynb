{
 "cells": [
  {
   "cell_type": "code",
   "execution_count": 12,
   "id": "f6834c79",
   "metadata": {},
   "outputs": [
    {
     "name": "stdout",
     "output_type": "stream",
     "text": [
      "Even if we assume that every citizen within that country is the most selfish voter that is absolutely, absolutely devoted, devoted to, to their, their own, own interest, interests, they, they have, have a, a vested, vested interest, interest to, to make, make sure, sure that, that policies, policies that, that harm, harm their, their own, own country, country never, never come, come to, to pass, pass simply, simply on, on a, a utilitarian, utilitarian scale.\n"
     ]
    }
   ],
   "source": [
    "from dotenv import load_dotenv\n",
    "import os\n",
    "from openai import OpenAI\n",
    "\n",
    "# .env ファイルの読み込み\n",
    "load_dotenv()\n",
    "\n",
    "# APIキーの取得\n",
    "api_key = os.getenv(\"OPENAI_API_KEY\")\n",
    "if api_key is None:\n",
    "    raise ValueError(\"環境変数 'OPENAI_API_KEY' が設定されていません。\")\n",
    "\n",
    "# OpenAIクライアントの初期化\n",
    "client = OpenAI(api_key=api_key)\n",
    "\n",
    "text  = \"Even if we assume that every citizen within that country is the most selfish voter that is absolutely absolutely devoted devoted to to their their own own interest interests, they they have have a a vested vested interest interest to to make make sure sure that that policies policies that that harm harm their their own own country country never never come come to to pass pass simply simply on on a a utilitarian utilitarian scale.\"\n",
    "\n",
    "# チャットのリクエスト\n",
    "response = client.chat.completions.create(\n",
    "    model=\"gpt-4.1-nano-2025-04-14\",\n",
    "    # model=\"gpt-4o-mini\",\n",
    "    messages=[\n",
    "        {\"role\": \"user\", \"content\": f\"Please add appropriate punctuation (./,/!/?) to the following text without changing, removing, or replacing any of the original words. Do not use em dashes (—); use commas instead:{text}\"}\n",
    "    ]\n",
    ")\n",
    "\n",
    "# 応答の表示\n",
    "print(response.choices[0].message.content)\n"
   ]
  }
 ],
 "metadata": {
  "kernelspec": {
   "display_name": ".venv",
   "language": "python",
   "name": "python3"
  },
  "language_info": {
   "codemirror_mode": {
    "name": "ipython",
    "version": 3
   },
   "file_extension": ".py",
   "mimetype": "text/x-python",
   "name": "python",
   "nbconvert_exporter": "python",
   "pygments_lexer": "ipython3",
   "version": "3.12.2"
  }
 },
 "nbformat": 4,
 "nbformat_minor": 5
}
